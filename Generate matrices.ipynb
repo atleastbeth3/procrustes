{
 "cells": [
  {
   "cell_type": "code",
   "execution_count": 3,
   "id": "8389e1a7",
   "metadata": {},
   "outputs": [
    {
     "name": "stdout",
     "output_type": "stream",
     "text": [
      "398.7,501.3\n",
      "400.0,453.2\n",
      "397.4,407.8\n",
      "398.7,371.4\n",
      "400.0,337.7\n",
      "398.7,287.0\n",
      "401.3,248.1\n",
      "401.3,203.9\n",
      "401.3,166.2\n",
      "403.9,115.6\n",
      "372.9,88.3\n",
      "326.5,75.3\n",
      "282.6,67.5\n",
      "250.3,81.8\n",
      "228.4,107.8\n",
      "229.7,140.3\n",
      "251.6,168.8\n",
      "276.1,175.3\n",
      "307.1,179.2\n",
      "345.8,183.1\n",
      "375.5,185.7\n",
      "423.2,466.2\n",
      "432.3,439.0\n",
      "447.7,409.1\n",
      "468.4,379.2\n",
      "487.7,364.9\n",
      "516.1,348.1\n",
      "532.9,316.9\n",
      "526.5,285.7\n",
      "508.4,258.4\n",
      "489.0,236.4\n",
      "471.0,214.3\n"
     ]
    }
   ],
   "source": [
    "import numpy as np\n",
    "import matplotlib.pyplot as plt\n",
    "\n",
    "%matplotlib qt\n",
    "\n",
    "fig = plt.figure(figsize=(8,6))\n",
    "ax = fig.add_subplot(111)\n",
    "ax.set_xlim(0,800)\n",
    "ax.set_ylim(0,600)\n",
    "\n",
    "plt.grid(True)\n",
    "\n",
    "coords = []\n",
    "\n",
    "def onclick(event):\n",
    "    x, y = event.xdata, event.ydata\n",
    "    \n",
    "    print(f'{x:0.1f},{y:0.1f}')\n",
    "\n",
    "    global coords\n",
    "    coords.append((x, y))\n",
    "\n",
    "    ax.scatter([x], [y], c='b', s=150)\n",
    "    plt.draw()\n",
    "    \n",
    "cid = fig.canvas.mpl_connect('button_press_event', onclick)\n",
    "\n",
    "fig.show()"
   ]
  },
  {
   "cell_type": "code",
   "execution_count": 2,
   "id": "b3e6ac06",
   "metadata": {},
   "outputs": [
    {
     "name": "stdout",
     "output_type": "stream",
     "text": [
      "100.6,294.8\n",
      "197.4,298.7\n",
      "16.8,251.9\n",
      "260.6,245.5\n",
      "138.1,154.5\n",
      "91.6,166.2\n",
      "55.5,189.6\n",
      "29.7,219.5\n",
      "178.1,161.0\n",
      "211.6,179.2\n",
      "240.0,209.1\n"
     ]
    }
   ],
   "source": [
    "import numpy as np\n",
    "import matplotlib.pyplot as plt\n",
    "\n",
    "%matplotlib qt\n",
    "\n",
    "fig = plt.figure(figsize=(8,6))\n",
    "ax = fig.add_subplot(111)\n",
    "ax.set_xlim(0,800)\n",
    "ax.set_ylim(0,600)\n",
    "\n",
    "plt.grid(True)\n",
    "\n",
    "coords = []\n",
    "\n",
    "def onclick(event):\n",
    "    x, y = event.xdata, event.ydata\n",
    "    \n",
    "    print(f'{x:0.1f},{y:0.1f}')\n",
    "\n",
    "    global coords\n",
    "    coords.append((x, y))\n",
    "\n",
    "    ax.scatter([x], [y], c='b', s=150)\n",
    "    plt.draw()\n",
    "    \n",
    "cid = fig.canvas.mpl_connect('button_press_event', onclick)\n",
    "\n",
    "fig.show()"
   ]
  },
  {
   "cell_type": "code",
   "execution_count": 3,
   "id": "64076bc1",
   "metadata": {},
   "outputs": [
    {
     "name": "stdout",
     "output_type": "stream",
     "text": [
      "499.4,401.3\n",
      "597.4,402.6\n",
      "543.2,545.5\n",
      "432.3,450.6\n",
      "650.3,453.2\n",
      "441.3,481.8\n",
      "455.5,515.6\n",
      "489.0,541.6\n",
      "584.5,540.3\n",
      "612.9,519.5\n",
      "634.8,488.3\n"
     ]
    }
   ],
   "source": [
    "import numpy as np\n",
    "import matplotlib.pyplot as plt\n",
    "\n",
    "%matplotlib qt\n",
    "\n",
    "fig = plt.figure(figsize=(8,6))\n",
    "ax = fig.add_subplot(111)\n",
    "ax.set_xlim(0,800)\n",
    "ax.set_ylim(0,600)\n",
    "\n",
    "plt.grid(True)\n",
    "\n",
    "coords = []\n",
    "\n",
    "def onclick(event):\n",
    "    x, y = event.xdata, event.ydata\n",
    "    \n",
    "    print(f'{x:0.1f},{y:0.1f}')\n",
    "\n",
    "    global coords\n",
    "    coords.append((x, y))\n",
    "\n",
    "    ax.scatter([x], [y], c='b', s=150)\n",
    "    plt.draw()\n",
    "    \n",
    "cid = fig.canvas.mpl_connect('button_press_event', onclick)\n",
    "\n",
    "fig.show()"
   ]
  },
  {
   "cell_type": "code",
   "execution_count": null,
   "id": "5d78770d",
   "metadata": {},
   "outputs": [],
   "source": []
  }
 ],
 "metadata": {
  "kernelspec": {
   "display_name": "Python 3",
   "language": "python",
   "name": "python3"
  },
  "language_info": {
   "codemirror_mode": {
    "name": "ipython",
    "version": 3
   },
   "file_extension": ".py",
   "mimetype": "text/x-python",
   "name": "python",
   "nbconvert_exporter": "python",
   "pygments_lexer": "ipython3",
   "version": "3.8.8"
  }
 },
 "nbformat": 4,
 "nbformat_minor": 5
}
